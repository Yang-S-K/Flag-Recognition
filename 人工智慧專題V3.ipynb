{
  "nbformat": 4,
  "nbformat_minor": 0,
  "metadata": {
    "colab": {
      "provenance": []
    },
    "kernelspec": {
      "name": "python3",
      "display_name": "Python 3"
    },
    "language_info": {
      "name": "python"
    }
  },
  "cells": [
    {
      "cell_type": "code",
      "execution_count": null,
      "metadata": {
        "colab": {
          "base_uri": "https://localhost:8080/"
        },
        "id": "RX9f5v1ehAU7",
        "outputId": "6639fea3-79de-4b38-84f6-ae3c916faaaa"
      },
      "outputs": [
        {
          "output_type": "stream",
          "name": "stdout",
          "text": [
            "Drive already mounted at /content/drive; to attempt to forcibly remount, call drive.mount(\"/content/drive\", force_remount=True).\n",
            "Found 19716 files belonging to 249 classes.\n",
            "Found 5154 files belonging to 249 classes.\n",
            "Epoch 1/10\n",
            "\u001b[1m617/617\u001b[0m \u001b[32m━━━━━━━━━━━━━━━━━━━━\u001b[0m\u001b[37m\u001b[0m \u001b[1m0s\u001b[0m 6s/step - accuracy: 0.5465 - loss: 4.0356"
          ]
        }
      ],
      "source": [
        "import tensorflow as tf\n",
        "from tensorflow.keras.models import load_model\n",
        "from tensorflow.keras import layers, models\n",
        "from tensorflow.keras.callbacks import EarlyStopping, ReduceLROnPlateau, ModelCheckpoint\n",
        "import os\n",
        "\n",
        "# Step 1: 掛載 Google 雲端硬碟\n",
        "from google.colab import drive\n",
        "drive.mount('/content/drive')\n",
        "\n",
        "# Step 2: 載入現有的 .keras 模型\n",
        "model_path = \"/content/drive/My Drive/model_epoch_20.keras\"  # 替換為您的模型路徑\n",
        "model = load_model(model_path)\n",
        "\n",
        "# Step 3: 解凍部分層進行微調\n",
        "# 讓模型基礎部分（如 ResNet50）可訓練\n",
        "base_model = model.layers[0]  # 假設 ResNet50 是模型的第一層\n",
        "base_model.trainable = True  # 解凍整個基礎模型\n",
        "\n",
        "# 鎖定前面的層，只解凍後幾層\n",
        "for layer in base_model.layers[:-50]:  # 解凍最後 50 層\n",
        "    layer.trainable = False\n",
        "\n",
        "# Step 4: 重新編譯模型（使用較低學習率）\n",
        "model.compile(\n",
        "    optimizer=tf.keras.optimizers.Adam(learning_rate=1e-5),\n",
        "    loss=\"sparse_categorical_crossentropy\",\n",
        "    metrics=[\"accuracy\"]\n",
        ")\n",
        "# Step 6: 準備數據集\n",
        "train_path = \"/content/drive/MyDrive/Colab Notebooks/dataset/flags/train\"  # 替換為您的訓練集路徑\n",
        "test_path = \"/content/drive/MyDrive/Colab Notebooks/dataset/flags/test\"   # 替換為您的測試集路徑\n",
        "image_size = (224, 224)\n",
        "batch_size = 32\n",
        "\n",
        "# 載入數據集\n",
        "train_dataset = tf.keras.utils.image_dataset_from_directory(\n",
        "    train_path,\n",
        "    image_size=image_size,\n",
        "    batch_size=batch_size\n",
        ")\n",
        "\n",
        "test_dataset = tf.keras.utils.image_dataset_from_directory(\n",
        "    test_path,\n",
        "    image_size=image_size,\n",
        "    batch_size=batch_size\n",
        ")\n",
        "\n",
        "# 數據增強與正規化\n",
        "data_augmentation = tf.keras.Sequential([\n",
        "    layers.RandomFlip(\"horizontal_and_vertical\"),\n",
        "    layers.RandomRotation(0.3),\n",
        "    layers.RandomZoom(0.2),\n",
        "    layers.RandomContrast(0.2),\n",
        "])\n",
        "\n",
        "def preprocess(image, label):\n",
        "    image = data_augmentation(image)\n",
        "    image = tf.cast(image, tf.float32) / 255.0  # 正規化到 [0, 1]\n",
        "    return image, label\n",
        "\n",
        "train_dataset = train_dataset.map(preprocess)\n",
        "test_dataset = test_dataset.map(lambda x, y: (tf.cast(x, tf.float32) / 255.0, y))\n",
        "\n",
        "# Step 6: 訓練回調\n",
        "checkpoint_dir = \"/content/checkpoints\"\n",
        "os.makedirs(checkpoint_dir, exist_ok=True)\n",
        "\n",
        "checkpoint_path = os.path.join(checkpoint_dir, \"model_epoch_{epoch:02d}.keras\")\n",
        "model_checkpoint = ModelCheckpoint(\n",
        "    filepath=checkpoint_path,\n",
        "    save_weights_only=False,\n",
        "    save_best_only=True,\n",
        "    monitor=\"val_loss\",\n",
        "    verbose=1\n",
        ")\n",
        "\n",
        "early_stopping = EarlyStopping(monitor=\"val_loss\", patience=3, restore_best_weights=True)\n",
        "reduce_lr = ReduceLROnPlateau(monitor=\"val_loss\", factor=0.5, patience=2, min_lr=1e-6)\n",
        "\n",
        "# Step 7: 繼續訓練模型\n",
        "history = model.fit(\n",
        "    train_dataset,\n",
        "    validation_data=test_dataset,\n",
        "    epochs=10,\n",
        "    callbacks=[model_checkpoint, early_stopping, reduce_lr]\n",
        ")\n",
        "\n",
        "# Step 8: 保存最終模型\n",
        "final_model_path = \"/content/drive/My Drive/fine_tuned_model.keras\"\n",
        "model.save(final_model_path)\n",
        "print(f\"模型已保存到: {final_model_path}\")"
      ]
    }
  ]
}